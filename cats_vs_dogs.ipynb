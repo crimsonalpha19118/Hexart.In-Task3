{
  "nbformat": 4,
  "nbformat_minor": 0,
  "metadata": {
    "colab": {
      "provenance": []
    },
    "kernelspec": {
      "name": "python3",
      "display_name": "Python 3"
    },
    "language_info": {
      "name": "python"
    },
    "accelerator": "GPU",
    "gpuClass": "standard"
  },
  "cells": [
    {
      "cell_type": "markdown",
      "source": [
        "#Classification With Neural Networks Using Python\n"
      ],
      "metadata": {
        "id": "Xv0ZpBFVCfqb"
      }
    },
    {
      "cell_type": "markdown",
      "source": [
        "## Importing the Dataset"
      ],
      "metadata": {
        "id": "J1FyR_jGCYTu"
      }
    },
    {
      "cell_type": "code",
      "execution_count": 1,
      "metadata": {
        "colab": {
          "base_uri": "https://localhost:8080/",
          "height": 35
        },
        "id": "m2DSPfWU1pkj",
        "outputId": "c750c840-7923-4c49-c18e-9db1947febba"
      },
      "outputs": [
        {
          "output_type": "execute_result",
          "data": {
            "text/plain": [
              "\"\\nwith open('/content/kaggle.json', 'w') as f:\\n  f.write('') # <--copy the content of json file here\\n\""
            ],
            "application/vnd.google.colaboratory.intrinsic+json": {
              "type": "string"
            }
          },
          "metadata": {},
          "execution_count": 1
        }
      ],
      "source": [
        "with open('/content/kaggle.json', 'w') as f:\n",
        "  f.write('{\"username\":\"raghavendragavuji\",\"key\":\"ac5ced9e5c8778a54e02d519a35834b3\"}')\n",
        "#incase if this throws an error use your kaggle api key, uncomment below snippet and delete this part of code\n",
        "'''\n",
        "with open('/content/kaggle.json', 'w') as f:\n",
        "  f.write('') # <--copy the content of json file here\n",
        "'''\n",
        "#Or You can directly import your api json to colab"
      ]
    },
    {
      "cell_type": "code",
      "source": [
        "!mkdir -p ~/.kaggle\n",
        "!cp kaggle.json ~/.kaggle/"
      ],
      "metadata": {
        "id": "7x4WNRY55KVJ"
      },
      "execution_count": 2,
      "outputs": []
    },
    {
      "cell_type": "code",
      "source": [
        "!chmod 600 /root/.kaggle/kaggle.json\n",
        "!kaggle datasets download -d salader/dogs-vs-cats"
      ],
      "metadata": {
        "colab": {
          "base_uri": "https://localhost:8080/"
        },
        "id": "ROvSSC965NGl",
        "outputId": "7be77230-7890-4804-cb22-f2fe7fd76c8c"
      },
      "execution_count": 3,
      "outputs": [
        {
          "output_type": "stream",
          "name": "stdout",
          "text": [
            "Downloading dogs-vs-cats.zip to /content\n",
            "100% 1.06G/1.06G [00:47<00:00, 23.2MB/s]\n",
            "100% 1.06G/1.06G [00:47<00:00, 23.9MB/s]\n"
          ]
        }
      ]
    },
    {
      "cell_type": "code",
      "source": [
        "import zipfile\n",
        "zip_ref = zipfile.ZipFile('/content/dogs-vs-cats.zip','r')\n",
        "zip_ref.extractall('/content')\n",
        "zip_ref.close()"
      ],
      "metadata": {
        "id": "MPaLCAul5SiC"
      },
      "execution_count": 4,
      "outputs": []
    },
    {
      "cell_type": "markdown",
      "source": [
        "## Import the libraries:"
      ],
      "metadata": {
        "id": "on55LXy0CRbX"
      }
    },
    {
      "cell_type": "code",
      "source": [
        "import tensorflow as tf\n",
        "from tensorflow import keras\n",
        "from keras import Sequential\n",
        "from keras.layers import Conv2D, MaxPooling2D, Dropout, Flatten, Dense, Activation, BatchNormalization"
      ],
      "metadata": {
        "id": "XhF0i9tSfVe3"
      },
      "execution_count": 5,
      "outputs": []
    },
    {
      "cell_type": "markdown",
      "source": [
        "##Prepare dataset for training model:"
      ],
      "metadata": {
        "id": "wEPFezlXC-FR"
      }
    },
    {
      "cell_type": "code",
      "source": [
        "train_data = keras.utils.image_dataset_from_directory(\n",
        "    directory = '/content/train',\n",
        "    labels = 'inferred',\n",
        "    label_mode = 'int',\n",
        "    batch_size = 32,\n",
        "    image_size = (256,256)\n",
        ")\n"
      ],
      "metadata": {
        "colab": {
          "base_uri": "https://localhost:8080/"
        },
        "id": "zonIrqHLj5Fo",
        "outputId": "02ec0a09-a25f-4385-b061-99b81e12c421"
      },
      "execution_count": 35,
      "outputs": [
        {
          "output_type": "stream",
          "name": "stdout",
          "text": [
            "Found 20000 files belonging to 2 classes.\n"
          ]
        }
      ]
    },
    {
      "cell_type": "code",
      "source": [
        "validation_data = keras.utils.image_dataset_from_directory(\n",
        "    directory = '/content/test',\n",
        "    labels = 'inferred',\n",
        "    label_mode = 'int',\n",
        "    batch_size = 32,\n",
        "    image_size = (256,256)\n",
        ")"
      ],
      "metadata": {
        "colab": {
          "base_uri": "https://localhost:8080/"
        },
        "id": "eIQsyNP6kK-b",
        "outputId": "0995a403-4932-4723-d051-e1722d86d24f"
      },
      "execution_count": 36,
      "outputs": [
        {
          "output_type": "stream",
          "name": "stdout",
          "text": [
            "Found 5000 files belonging to 2 classes.\n"
          ]
        }
      ]
    },
    {
      "cell_type": "code",
      "source": [
        "def process(image,label):\n",
        "  image = tf.cast(image/255. ,tf.float32)\n",
        "  return image,label\n",
        "\n",
        "train_data = train_data.map(process)\n",
        "validation_data = validation_data.map(process)"
      ],
      "metadata": {
        "id": "Z19jWpITkLXj"
      },
      "execution_count": 37,
      "outputs": []
    },
    {
      "cell_type": "markdown",
      "source": [
        "##Creating the neural net model:"
      ],
      "metadata": {
        "id": "3d5v8TR4DCpv"
      }
    },
    {
      "cell_type": "code",
      "source": [
        "model = Sequential()\n",
        "\n",
        "model.add(Conv2D(32, (3, 3), activation='relu', input_shape=(256,256,3)))\n",
        "model.add(BatchNormalization())\n",
        "model.add(MaxPooling2D(pool_size=(2, 2)))\n",
        "model.add(Dropout(0.25))\n",
        "model.add(Conv2D(64, (3, 3), activation='relu'))\n",
        "model.add(BatchNormalization())\n",
        "model.add(MaxPooling2D(pool_size=(2, 2)))\n",
        "model.add(Dropout(0.25))\n",
        "\n",
        "model.add(Conv2D(128, (3, 3), activation='relu'))\n",
        "model.add(BatchNormalization())\n",
        "model.add(MaxPooling2D(pool_size=(2, 2)))\n",
        "model.add(Dropout(0.25))\n",
        "model.add(Flatten())\n",
        "model.add(Dense(512, activation='relu'))\n",
        "model.add(BatchNormalization())\n",
        "model.add(Dropout(0.5))\n",
        "model.add(Dense(1, activation='sigmoid')) \n",
        "\n"
      ],
      "metadata": {
        "id": "CvTpRVd6kOei"
      },
      "execution_count": null,
      "outputs": []
    },
    {
      "cell_type": "code",
      "source": [
        "model.compile(optimizer='adam',loss = 'binary_crossentropy',metrics = ['accuracy'])"
      ],
      "metadata": {
        "id": "HeNQT-oyDWMG"
      },
      "execution_count": null,
      "outputs": []
    },
    {
      "cell_type": "markdown",
      "source": [
        "##Analyzing the model:"
      ],
      "metadata": {
        "id": "Av0s1d0fDcwX"
      }
    },
    {
      "cell_type": "code",
      "source": [
        "model.summary()"
      ],
      "metadata": {
        "colab": {
          "base_uri": "https://localhost:8080/"
        },
        "id": "N-NPQ5lcDQvS",
        "outputId": "df93c98c-0f33-4ca5-bfc7-962cc92f94f1"
      },
      "execution_count": 49,
      "outputs": [
        {
          "output_type": "stream",
          "name": "stdout",
          "text": [
            "Model: \"sequential_2\"\n",
            "_________________________________________________________________\n",
            " Layer (type)                Output Shape              Param #   \n",
            "=================================================================\n",
            " conv2d_6 (Conv2D)           (None, 254, 254, 32)      896       \n",
            "                                                                 \n",
            " batch_normalization_8 (Batc  (None, 254, 254, 32)     128       \n",
            " hNormalization)                                                 \n",
            "                                                                 \n",
            " max_pooling2d_6 (MaxPooling  (None, 127, 127, 32)     0         \n",
            " 2D)                                                             \n",
            "                                                                 \n",
            " dropout_8 (Dropout)         (None, 127, 127, 32)      0         \n",
            "                                                                 \n",
            " conv2d_7 (Conv2D)           (None, 125, 125, 64)      18496     \n",
            "                                                                 \n",
            " batch_normalization_9 (Batc  (None, 125, 125, 64)     256       \n",
            " hNormalization)                                                 \n",
            "                                                                 \n",
            " max_pooling2d_7 (MaxPooling  (None, 62, 62, 64)       0         \n",
            " 2D)                                                             \n",
            "                                                                 \n",
            " dropout_9 (Dropout)         (None, 62, 62, 64)        0         \n",
            "                                                                 \n",
            " conv2d_8 (Conv2D)           (None, 60, 60, 128)       73856     \n",
            "                                                                 \n",
            " batch_normalization_10 (Bat  (None, 60, 60, 128)      512       \n",
            " chNormalization)                                                \n",
            "                                                                 \n",
            " max_pooling2d_8 (MaxPooling  (None, 30, 30, 128)      0         \n",
            " 2D)                                                             \n",
            "                                                                 \n",
            " dropout_10 (Dropout)        (None, 30, 30, 128)       0         \n",
            "                                                                 \n",
            " flatten_2 (Flatten)         (None, 115200)            0         \n",
            "                                                                 \n",
            " dense_4 (Dense)             (None, 512)               58982912  \n",
            "                                                                 \n",
            " batch_normalization_11 (Bat  (None, 512)              2048      \n",
            " chNormalization)                                                \n",
            "                                                                 \n",
            " dropout_11 (Dropout)        (None, 512)               0         \n",
            "                                                                 \n",
            " dense_5 (Dense)             (None, 1)                 513       \n",
            "                                                                 \n",
            "=================================================================\n",
            "Total params: 59,079,617\n",
            "Trainable params: 59,078,145\n",
            "Non-trainable params: 1,472\n",
            "_________________________________________________________________\n"
          ]
        }
      ]
    },
    {
      "cell_type": "markdown",
      "source": [
        "##Defining callbacks and learning rate:"
      ],
      "metadata": {
        "id": "nEEMpHLRDiRa"
      }
    },
    {
      "cell_type": "code",
      "source": [
        "from keras.callbacks import EarlyStopping, ReduceLROnPlateau\n",
        "earlystop = EarlyStopping(patience=10)\n",
        "learning_rate_reduction = ReduceLROnPlateau(monitor='val_acc', \n",
        "                                            patience=2, \n",
        "                                            verbose=1, \n",
        "                                            factor=0.5, \n",
        "                                            min_lr=0.00001)\n",
        "callbacks = [earlystop, learning_rate_reduction]"
      ],
      "metadata": {
        "id": "2SisqYnuwh72"
      },
      "execution_count": 14,
      "outputs": []
    },
    {
      "cell_type": "markdown",
      "source": [
        "##Model Training:"
      ],
      "metadata": {
        "id": "coXg7AJ0DorE"
      }
    },
    {
      "cell_type": "code",
      "source": [
        "history = model.fit(train_data,epochs = 10, validation_data = validation_data)"
      ],
      "metadata": {
        "colab": {
          "base_uri": "https://localhost:8080/"
        },
        "id": "QwYZMAaOk1vE",
        "outputId": "4b0238a8-721c-4d51-9e06-f13b04476f09"
      },
      "execution_count": 39,
      "outputs": [
        {
          "output_type": "stream",
          "name": "stdout",
          "text": [
            "Epoch 1/10\n",
            "625/625 [==============================] - 82s 131ms/step - loss: 0.4762 - accuracy: 0.7696 - val_loss: 0.5392 - val_accuracy: 0.7366\n",
            "Epoch 2/10\n",
            "625/625 [==============================] - 82s 131ms/step - loss: 0.4421 - accuracy: 0.7918 - val_loss: 0.4613 - val_accuracy: 0.7891\n",
            "Epoch 3/10\n",
            "625/625 [==============================] - 82s 131ms/step - loss: 0.3765 - accuracy: 0.8311 - val_loss: 0.5791 - val_accuracy: 0.7356\n",
            "Epoch 4/10\n",
            "625/625 [==============================] - 82s 130ms/step - loss: 0.3277 - accuracy: 0.8584 - val_loss: 0.4568 - val_accuracy: 0.7879\n",
            "Epoch 5/10\n",
            "625/625 [==============================] - 82s 130ms/step - loss: 0.2924 - accuracy: 0.8751 - val_loss: 0.4316 - val_accuracy: 0.8257\n",
            "Epoch 6/10\n",
            "625/625 [==============================] - 82s 130ms/step - loss: 0.2285 - accuracy: 0.9070 - val_loss: 0.5918 - val_accuracy: 0.7760\n",
            "Epoch 7/10\n",
            "625/625 [==============================] - 82s 130ms/step - loss: 0.1961 - accuracy: 0.9204 - val_loss: 0.4476 - val_accuracy: 0.8315\n",
            "Epoch 8/10\n",
            "625/625 [==============================] - 82s 130ms/step - loss: 0.1280 - accuracy: 0.9502 - val_loss: 0.4959 - val_accuracy: 0.8353\n",
            "Epoch 9/10\n",
            "625/625 [==============================] - 82s 130ms/step - loss: 0.1148 - accuracy: 0.9554 - val_loss: 0.6182 - val_accuracy: 0.7945\n",
            "Epoch 10/10\n",
            "625/625 [==============================] - 81s 130ms/step - loss: 0.1339 - accuracy: 0.9478 - val_loss: 1.5520 - val_accuracy: 0.6963\n"
          ]
        }
      ]
    },
    {
      "cell_type": "code",
      "source": [
        "import matplotlib.pyplot as plt\n",
        "plt.plot(history.history['accuracy'],color = 'red',label = 'train')\n",
        "plt.plot(history.history['val_accuracy'],color = 'blue',label = 'validation')\n",
        "plt.legend()\n",
        "plt.show()"
      ],
      "metadata": {
        "colab": {
          "base_uri": "https://localhost:8080/",
          "height": 265
        },
        "id": "Z1zIca3Xl2MJ",
        "outputId": "db189e2d-e075-4d04-a818-dd09786789af"
      },
      "execution_count": 40,
      "outputs": [
        {
          "output_type": "display_data",
          "data": {
            "text/plain": [
              "<Figure size 432x288 with 1 Axes>"
            ],
            "image/png": "[encoded data removed]"
          },
          "metadata": {
            "needs_background": "light"
          }
        }
      ]
    },
    {
      "cell_type": "code",
      "source": [
        "plt.plot(history.history['loss'],color = 'red',label = 'train')\n",
        "plt.plot(history.history['val_loss'],color = 'blue',label = 'validation')\n",
        "plt.legend()\n",
        "plt.show()"
      ],
      "metadata": {
        "colab": {
          "base_uri": "https://localhost:8080/",
          "height": 266
        },
        "id": "AzKtKD6B7P7q",
        "outputId": "2a3cb741-3e9f-45c3-a40b-a34a152acabc"
      },
      "execution_count": 41,
      "outputs": [
        {
          "output_type": "display_data",
          "data": {
            "text/plain": [
              "<Figure size 432x288 with 1 Axes>"
            ],
            "image/png": "[encoded data removed]"
          },
          "metadata": {
            "needs_background": "light"
          }
        }
      ]
    },
    {
      "cell_type": "markdown",
      "source": [
        "##Fine tuning"
      ],
      "metadata": {
        "id": "YhzCsqMeD0-3"
      }
    },
    {
      "cell_type": "code",
      "source": [
        "model.compile(loss=tf.keras.losses.CategoricalCrossentropy(),\n",
        "              optimizer = tf.keras.optimizers.RMSprop(learning_rate=0.000001),\n",
        "              metrics=['accuracy'])"
      ],
      "metadata": {
        "id": "WxyJ6xk57QiA"
      },
      "execution_count": 42,
      "outputs": []
    },
    {
      "cell_type": "code",
      "source": [
        "history = model.fit(train_data,epochs = 10, validation_data = validation_data)"
      ],
      "metadata": {
        "colab": {
          "base_uri": "https://localhost:8080/"
        },
        "id": "moNi9-Bh7aj1",
        "outputId": "cdd5a569-6745-4780-8fd6-1b11a30b245e"
      },
      "execution_count": 44,
      "outputs": [
        {
          "output_type": "stream",
          "name": "stdout",
          "text": [
            "Epoch 1/10\n",
            "625/625 [==============================] - 88s 140ms/step - loss: 0.0000e+00 - accuracy: 0.9170 - val_loss: 0.0000e+00 - val_accuracy: 0.8098\n",
            "Epoch 2/10\n",
            "625/625 [==============================] - 88s 141ms/step - loss: 0.0000e+00 - accuracy: 0.9196 - val_loss: 0.0000e+00 - val_accuracy: 0.8094\n",
            "Epoch 3/10\n",
            "625/625 [==============================] - 88s 141ms/step - loss: 0.0000e+00 - accuracy: 0.9218 - val_loss: 0.0000e+00 - val_accuracy: 0.8096\n",
            "Epoch 4/10\n",
            "625/625 [==============================] - 88s 141ms/step - loss: 0.0000e+00 - accuracy: 0.9212 - val_loss: 0.0000e+00 - val_accuracy: 0.8116\n",
            "Epoch 5/10\n",
            "625/625 [==============================] - 88s 140ms/step - loss: 0.0000e+00 - accuracy: 0.9228 - val_loss: 0.0000e+00 - val_accuracy: 0.8078\n",
            "Epoch 6/10\n",
            "625/625 [==============================] - 88s 140ms/step - loss: 0.0000e+00 - accuracy: 0.9238 - val_loss: 0.0000e+00 - val_accuracy: 0.8096\n",
            "Epoch 7/10\n",
            "625/625 [==============================] - 88s 140ms/step - loss: 0.0000e+00 - accuracy: 0.9280 - val_loss: 0.0000e+00 - val_accuracy: 0.8102\n",
            "Epoch 8/10\n",
            "625/625 [==============================] - 88s 140ms/step - loss: 0.0000e+00 - accuracy: 0.9266 - val_loss: 0.0000e+00 - val_accuracy: 0.8108\n",
            "Epoch 9/10\n",
            "625/625 [==============================] - 88s 140ms/step - loss: 0.0000e+00 - accuracy: 0.9284 - val_loss: 0.0000e+00 - val_accuracy: 0.8098\n",
            "Epoch 10/10\n",
            "625/625 [==============================] - 88s 140ms/step - loss: 0.0000e+00 - accuracy: 0.9298 - val_loss: 0.0000e+00 - val_accuracy: 0.8098\n"
          ]
        }
      ]
    },
    {
      "cell_type": "code",
      "source": [
        "plt.plot(history.history['accuracy'],color = 'red',label = 'train')\n",
        "plt.plot(history.history['val_accuracy'],color = 'blue',label = 'validation')\n",
        "plt.legend()\n",
        "plt.show()"
      ],
      "metadata": {
        "colab": {
          "base_uri": "https://localhost:8080/",
          "height": 265
        },
        "id": "5WMrc0aZ7pLe",
        "outputId": "713f81bc-a84f-46ef-e7fd-5ae14d2d1aa9"
      },
      "execution_count": 47,
      "outputs": [
        {
          "output_type": "display_data",
          "data": {
            "text/plain": [
              "<Figure size 432x288 with 1 Axes>"
            ],
            "image/png": "[encoded data removed]"
          },
          "metadata": {
            "needs_background": "light"
          }
        }
      ]
    },
    {
      "cell_type": "code",
      "source": [
        "#The model is validated to ~81% accuracy which can be increased by increasing the training iterations "
      ],
      "metadata": {
        "id": "m61W_NjBFjxz"
      },
      "execution_count": null,
      "outputs": []
    },
    {
      "cell_type": "code",
      "source": [
        "plt.plot(history.history['loss'],color = 'red',label = 'train')\n",
        "plt.plot(history.history['val_loss'],color = 'blue',label = 'validation')\n",
        "plt.legend()\n",
        "plt.show()"
      ],
      "metadata": {
        "colab": {
          "base_uri": "https://localhost:8080/",
          "height": 265
        },
        "id": "CTk5XnMKA24_",
        "outputId": "9974478f-4405-4654-f279-9b184033401b"
      },
      "execution_count": 48,
      "outputs": [
        {
          "output_type": "display_data",
          "data": {
            "text/plain": [
              "<Figure size 432x288 with 1 Axes>"
            ],
            "image/png": "[encoded data removed]"
          },
          "metadata": {
            "needs_background": "light"
          }
        }
      ]
    },
    {
      "cell_type": "code",
      "source": [
        "#Fine tuned the model and minimised the losses"
      ],
      "metadata": {
        "id": "KXsNY9MiA-gI"
      },
      "execution_count": null,
      "outputs": []
    }
  ]
}